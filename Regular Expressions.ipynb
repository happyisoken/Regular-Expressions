{
 "cells": [
  {
   "cell_type": "markdown",
   "id": "6803a424-5549-4111-882e-30a6764e7f1d",
   "metadata": {},
   "source": [
    "#### Manipulating Text with Regular Expressions"
   ]
  },
  {
   "cell_type": "markdown",
   "id": "636cd020-a1d9-4ecc-80da-fb6d566d0148",
   "metadata": {},
   "source": [
    "Regular expressions or Regexes, are written in a condensed formatting language. It is though of as pattern which is given to a regex processor with some source data. The processor then parse that source data using that pattern and returns chunks of text back to the data scientist or programmer for further manipulations. \n",
    "\n",
    "There are really main reasons why this is done:\n",
    "- to check whether a pattern exists within some source data\n",
    "- to get all instances of a complex pattern from some source data\n",
    "- to clean your source data using a pattern generally through string splitting.\n",
    "\n",
    "Regexes are not trivial, but they are a foundational technique for data cleaning in data science applications, and a solid understanding of regex will help one quickly and efficiently manipulate text data for further data science application."
   ]
  },
  {
   "cell_type": "code",
   "execution_count": 1,
   "id": "e3005c3f-ede9-4162-a04c-ab010270a7a6",
   "metadata": {},
   "outputs": [],
   "source": [
    "#First, we'll import the re module, which is where python stores regex libraries\n",
    "import re"
   ]
  },
  {
   "cell_type": "markdown",
   "id": "ba61abf5-d045-4522-9a52-fbbfe91d1240",
   "metadata": {},
   "source": [
    "There are several main processing functions in re that might be used\n",
    "1. match() - checks for a match that is at the beginning of the string and returns a boolean.\n",
    "2. search() - checks for a match anywhere in the string and returns a boolean."
   ]
  },
  {
   "cell_type": "code",
   "execution_count": 2,
   "id": "0b9c057a-70e5-4eab-995a-6575fdf6ad1b",
   "metadata": {},
   "outputs": [
    {
     "name": "stdout",
     "output_type": "stream",
     "text": [
      "Wonderful\n"
     ]
    }
   ],
   "source": [
    "# Let's create some texts for an example\n",
    "text = 'This is a good day.'\n",
    "\n",
    "# Now, lets see if it's a good day or not\n",
    "if re.search('good', text): # the first parameter here is the pattern\n",
    "    print('Wonderful')\n",
    "else:\n",
    "    print('Alas :(')"
   ]
  },
  {
   "cell_type": "code",
   "execution_count": 3,
   "id": "a61cf13e-093d-484b-93ed-aa1cce1e771d",
   "metadata": {},
   "outputs": [
    {
     "data": {
      "text/plain": [
       "['',\n",
       " ' works diligently. ',\n",
       " ' gets good grades. Our student ',\n",
       " ' is successful.']"
      ]
     },
     "execution_count": 3,
     "metadata": {},
     "output_type": "execute_result"
    }
   ],
   "source": [
    "# The findall() and split() functions will parse the string for us and return chunks. Let's see an example\n",
    "text = 'Amy works diligently. Amy gets good grades. Our student Amy is successful.'\n",
    "\n",
    "# Lets's split this on all instances of Amy\n",
    "re.split('Amy', text)"
   ]
  },
  {
   "cell_type": "markdown",
   "id": "50beb29b-71e4-4bcd-8e31-f547a8155f1a",
   "metadata": {},
   "source": [
    "In addition to checking for conditionals, we can segment a string. The work that regex does here is called tokenizing, where the string is seperated into substrings based on patterns."
   ]
  },
  {
   "cell_type": "code",
   "execution_count": 4,
   "id": "b47250de-b216-4fcf-b50f-2ec65efaf4fd",
   "metadata": {},
   "outputs": [
    {
     "data": {
      "text/plain": [
       "['Amy', 'Amy', 'Amy']"
      ]
     },
     "execution_count": 4,
     "metadata": {},
     "output_type": "execute_result"
    }
   ],
   "source": [
    "# If we wanted to count how many times we havw talked about Amy, we could use findall()\n",
    "re.findall('Amy', text)"
   ]
  },
  {
   "cell_type": "markdown",
   "id": "9628e948-7d0c-4956-93a5-2688c164bca6",
   "metadata": {},
   "source": [
    "We've seen that:\n",
    "- .search() - looks for some pattern and returns a boolean\n",
    "- .split() - will use a pattern for creating a list of substrings\n",
    "- .findall() - will look for a patter and pull out all occurences"
   ]
  },
  {
   "cell_type": "code",
   "execution_count": 5,
   "id": "187fd211-b979-42b8-bbaf-bbe0f31f84ae",
   "metadata": {},
   "outputs": [],
   "source": [
    "#The regex specification standard defines a markup language to describe patterns in text.Let's start with anchors. \n",
    "\n",
    "#Anchors specify the start and/or end of the string that you are trying to match. \n",
    "\n",
    "#The caret character ^ means start and the dollar sign character $ means end. \n",
    "#If you put ^ before a string, it means that the text the regex processor retrieves must start with the string you specify.\n",
    "#For ending, you have to put the $ character after the string, it means that the text Regex retrieves must end with the string you specify."
   ]
  },
  {
   "cell_type": "code",
   "execution_count": 6,
   "id": "0cc78b54-24dc-4496-84b5-e25c27ce11db",
   "metadata": {},
   "outputs": [
    {
     "data": {
      "text/plain": [
       "<re.Match object; span=(0, 3), match='Amy'>"
      ]
     },
     "execution_count": 6,
     "metadata": {},
     "output_type": "execute_result"
    }
   ],
   "source": [
    "# Here's an example\n",
    "text = 'Amy works diligently. Amy gets good grades. Our student Amy is successful.'\n",
    "\n",
    "# Let's see if this begins with Amy\n",
    "re.search('^Amy', text)"
   ]
  },
  {
   "cell_type": "markdown",
   "id": "a5323107-9ace-4b08-a2d1-90578a6929cc",
   "metadata": {},
   "source": [
    "Notice that re.search() actually returned to us a new object, called re-Match object. A re-Match object always has a boolean value of True, as something found, so you can always evaluate it in an if statement as we did earlier.\n",
    "\n",
    "The rendering of the match object also tells you what pattern was match, in this case the word Amy and the location the match was in, as the span."
   ]
  },
  {
   "cell_type": "markdown",
   "id": "33c4a892-3683-4e08-a5de-8b945f943668",
   "metadata": {},
   "source": [
    "#### Patterns and Character Classes"
   ]
  },
  {
   "cell_type": "code",
   "execution_count": 7,
   "id": "e97c1c32-4613-441a-8dad-14bf5643986c",
   "metadata": {},
   "outputs": [
    {
     "data": {
      "text/plain": [
       "['B', 'B', 'B']"
      ]
     },
     "execution_count": 7,
     "metadata": {},
     "output_type": "execute_result"
    }
   ],
   "source": [
    "#Let's create a string of a single leaners' grade over a semester in one course accross all of their assignments.\n",
    "grades = 'ACAAAABCBCBAA'\n",
    "\n",
    "#If we want to answer the question \"How many B's were in the grade list?\" we would just use B\n",
    "re.findall('B', grades)"
   ]
  },
  {
   "cell_type": "markdown",
   "id": "4c73c016-a919-4439-8ef6-8aaf0d6cfd4a",
   "metadata": {},
   "source": [
    "If we wanted to count the number of 'A's or B's in the list, we can't use 'AB' since thi is used to match all A's followed immediately by a B. Instead, we put the characters A and B inside square brackets."
   ]
  },
  {
   "cell_type": "code",
   "execution_count": 8,
   "id": "d9dae3c0-fab2-4673-a0ee-5d2baa6bff4e",
   "metadata": {},
   "outputs": [
    {
     "data": {
      "text/plain": [
       "['A', 'A', 'A', 'A', 'A', 'B', 'B', 'B', 'A', 'A']"
      ]
     },
     "execution_count": 8,
     "metadata": {},
     "output_type": "execute_result"
    }
   ],
   "source": [
    "re.findall('[AB]', grades)"
   ]
  },
  {
   "cell_type": "code",
   "execution_count": 9,
   "id": "9e375b97-4c27-42dc-b549-7e190b2e7a59",
   "metadata": {},
   "outputs": [
    {
     "data": {
      "text/plain": [
       "['AC', 'AB']"
      ]
     },
     "execution_count": 9,
     "metadata": {},
     "output_type": "execute_result"
    }
   ],
   "source": [
    "#This is called the set operator. You can also include a range of characters, which are ordered alphanumerically. For instance, if we want to refer to all lower case letters we could use [a-z].\n",
    "#Let's build a simple regex to parse out all instances where this student receive an A followed by a B or a C \n",
    "re.findall('[A][B-C]', grades)"
   ]
  },
  {
   "cell_type": "code",
   "execution_count": 10,
   "id": "d2feaa3b-2cae-44d5-aed4-494b2f36a125",
   "metadata": {},
   "outputs": [
    {
     "data": {
      "text/plain": [
       "['AC', 'AB']"
      ]
     },
     "execution_count": 10,
     "metadata": {},
     "output_type": "execute_result"
    }
   ],
   "source": [
    "# Notice how the [AB patter describes a set of possible character which could be either (A OR B), while the [A][B-C] pattern denoted two sets of characters which must have been matched back to back.\n",
    "# You can write this pattern by using the pipe operator, which means OR\n",
    "re.findall('AB|AC', grades)"
   ]
  },
  {
   "cell_type": "code",
   "execution_count": 11,
   "id": "d28e1ed6-e3bf-4f82-a1ef-3fc8b4f750bf",
   "metadata": {},
   "outputs": [
    {
     "data": {
      "text/plain": [
       "['C', 'B', 'C', 'B', 'C', 'B']"
      ]
     },
     "execution_count": 11,
     "metadata": {},
     "output_type": "execute_result"
    }
   ],
   "source": [
    "# We can use the caret with the set operator to negate our results. For instance, if we want to parse out only the grades which were not A's\n",
    "re.findall('[^A]', grades)"
   ]
  },
  {
   "cell_type": "code",
   "execution_count": 12,
   "id": "3562e2a9-6702-4e5c-a3d4-27e8c99bb347",
   "metadata": {},
   "outputs": [
    {
     "data": {
      "text/plain": [
       "[]"
      ]
     },
     "execution_count": 12,
     "metadata": {},
     "output_type": "execute_result"
    }
   ],
   "source": [
    "# Note this carefully -the caret was previously matched to the beggining of a string as an anchor point, but inside of the set operator the caret and other special characters we will be talking about, lose their meaning. This can quite confusing. \n",
    "# Take a look at this\n",
    "re.findall('^[^A]', grades)"
   ]
  },
  {
   "cell_type": "code",
   "execution_count": 13,
   "id": "c1b989c4-83a2-4510-9443-3c0c4ae490b3",
   "metadata": {},
   "outputs": [],
   "source": [
    "# It is an empty list because the regex says that we want to match any value at the begining of the string which is not an A.\n",
    "# our string though starts with an A, so there is no match found.\n",
    "# Remember, when you are using the set operator, you are doing character-based matching. So you are matching individual characters in an OR method"
   ]
  },
  {
   "cell_type": "markdown",
   "id": "c6eeb203-ee8b-4c29-8304-07b0d404d101",
   "metadata": {},
   "source": [
    "#### Quantifiers\n",
    "\n",
    "Quantifiers are the number of times you want a pattern to be matched in order to match. The most basic quantifier is expressed as e{m, n}, where e is the expression or character we are matching, m is the minimum number of times you want it matched, and n is the maximum number of times the item could be matched."
   ]
  },
  {
   "cell_type": "code",
   "execution_count": 14,
   "id": "1c7aad36-25d2-4fcc-a0c7-7e6625eeef7c",
   "metadata": {},
   "outputs": [
    {
     "data": {
      "text/plain": [
       "['AAAA', 'AA']"
      ]
     },
     "execution_count": 14,
     "metadata": {},
     "output_type": "execute_result"
    }
   ],
   "source": [
    "# Let's use these grades as an example. How many times has this student been on a back-to-back A's streak?\n",
    "re.findall('A{2,10}', grades) # we'll use 2 as our min, but ten as our max."
   ]
  },
  {
   "cell_type": "code",
   "execution_count": 15,
   "id": "f3605097-9d85-4d83-9fe0-1a4cb67a2382",
   "metadata": {},
   "outputs": [
    {
     "data": {
      "text/plain": [
       "['AA', 'AA', 'AA']"
      ]
     },
     "execution_count": 15,
     "metadata": {},
     "output_type": "execute_result"
    }
   ],
   "source": [
    "# So we see that there were two streaks, one where the student had four A's, and one where they had only two A's\n",
    "\n",
    "#We might try and do this using single values and just repeating the pattern\n",
    "re.findall('A{1,1}A{1,1}', grades)"
   ]
  },
  {
   "cell_type": "markdown",
   "id": "c85b8399-9818-431c-ac03-a910be4963d0",
   "metadata": {},
   "source": [
    "The first pattern is looking for any combination of two A's up to ten A's in a row. So it sees four A's as a single streak. The second pattern is looking for two A's back to back, so it sees two A's followed immediately by two more A's. We say that the regex processor begins at the start of the string and consumes variables which match patterns as it does.\n",
    "\n",
    "It is important to note that the regex quantifier syntax does not allow you to deviate from the (m, n) pattern. "
   ]
  },
  {
   "cell_type": "code",
   "execution_count": 16,
   "id": "44f86452-cb22-48a5-b6dc-876394993957",
   "metadata": {},
   "outputs": [
    {
     "data": {
      "text/plain": [
       "[]"
      ]
     },
     "execution_count": 16,
     "metadata": {},
     "output_type": "execute_result"
    }
   ],
   "source": [
    "# In particular, if you have an extra space in between the braces, you'll get an empty result.\n",
    "re.findall('A{2, 2}', grades)"
   ]
  },
  {
   "cell_type": "code",
   "execution_count": 17,
   "id": "39fa0719-7faf-49d5-9191-0f249188c313",
   "metadata": {},
   "outputs": [
    {
     "data": {
      "text/plain": [
       "['AA', 'AA', 'AA']"
      ]
     },
     "execution_count": 17,
     "metadata": {},
     "output_type": "execute_result"
    }
   ],
   "source": [
    "# As we have already seen, if we dont include a quantifier then the default is {1,1}\n",
    "re.findall('AA', grades)"
   ]
  },
  {
   "cell_type": "code",
   "execution_count": 18,
   "id": "4bdc2ad3-c006-4725-9dac-3bd12134c370",
   "metadata": {},
   "outputs": [
    {
     "data": {
      "text/plain": [
       "['AA', 'AA', 'AA']"
      ]
     },
     "execution_count": 18,
     "metadata": {},
     "output_type": "execute_result"
    }
   ],
   "source": [
    "# If you just have one number in the braces, it's considered to be both m and n\n",
    "re.findall('A{2}', grades)"
   ]
  },
  {
   "cell_type": "code",
   "execution_count": 19,
   "id": "79443d52-600e-41d2-8af0-138f6f5d18a3",
   "metadata": {},
   "outputs": [
    {
     "data": {
      "text/plain": [
       "['AAAABC']"
      ]
     },
     "execution_count": 19,
     "metadata": {},
     "output_type": "execute_result"
    }
   ],
   "source": [
    "# Using this, we could find a decreasing trend in a student's grades\n",
    "re.findall('A{1,10}B{1,10}C{1,10}', grades)"
   ]
  },
  {
   "cell_type": "markdown",
   "id": "73417854-2668-4bf7-afcd-bb6789d7757d",
   "metadata": {},
   "source": [
    "That's a bit of a hack, because we included a maximum that was just arbitrarily large. There are three other quantifiers that are used as short hand, \n",
    "- an asterix * to match 0 or more times, \n",
    "- a question mark ? to match one or more times, \n",
    "- or a + plus sign to match one or more times. "
   ]
  },
  {
   "cell_type": "code",
   "execution_count": 20,
   "id": "86f66477-ad13-4f35-bde5-1320437737ca",
   "metadata": {},
   "outputs": [
    {
     "data": {
      "text/plain": [
       "'Overview[edit]\\nFERPA gives parents access to their child\\'s education records, an opportunity to seek to have the records amended, and some control over the disclosure of information from the records. With several exceptions, schools must have a student\\'s consent prior to the disclosure of education records after that student is 18 years old. The law applies only to educational agencies and institutions that receive funds under a program administered by the U.S. Department of Education.\\n\\nOther regulations under this act, effective starting January 3, 2012, allow for greater disclosures of personal and directory student identifying information and regulate student IDs and e-mail addresses.[2] For example, schools may provide external companies with a student\\'s personally identifiable information without the student\\'s consent.[2]\\n\\nExamples of situations affected by FERPA include school employees divulging information to anyone other than the student about the student\\'s grades or behavior, and school work posted on a bulletin board with a grade. Generally, schools must have written permission from the parent or eligible student in order to release any information from a student\\'s education record.\\n\\nThis privacy policy also governs how state agencies transmit testing data to federal agencies, such as the Education Data Exchange Network.\\n\\nThis U.S. federal law also gave students 18 years of age or older, or students of any age if enrolled in any post-secondary educational institution, the right of privacy regarding grades, enrollment, and even billing information unless the school has specific permission from the student to share that specific type of information.\\n\\nFERPA also permits a school to disclose personally identifiable information from education records of an \"eligible student\" (a student age 18 or older or enrolled in a postsecondary institution at any age) to his or her parents if the student is a \"dependent student\" as that term is defined in Section 152 of the Internal Revenue Code. Generally, if either parent has claimed the student as a dependent on the parent\\'s most recent income tax statement, the school may non-consensually disclose the student\\'s education records to both parents.[3]\\n\\nThe law allowed students who apply to an educational institution such as graduate school permission to view recommendations submitted by others as part of the application. However, on standard application forms, students are given the option to waive this right.\\n\\nFERPA specifically excludes employees of an educational institution if they are not students.\\n\\nThe act is also referred to as the Buckley Amendment, for one of its proponents, Senator James L. Buckley of New York.\\n\\nAccess to public records[edit]\\nThe citing of FERPA to conceal public records that are not \"educational\" in nature has been widely criticized, including by the act\\'s primary Senate sponsor.[4] For example, in the Owasso Independent School District v. Falvo case, an important part of the debate was determining the relationship between peer-grading and \"education records\" as defined in FERPA. In the Court of Appeals, it was ruled that students placing grades on the work of other students made such work into an \"education record.\" Thus, peer-grading was determined as a violation of FERPA privacy policies because students had access to other students\\' academic performance without full consent.[5] However, when the case went to the Supreme Court, it was officially ruled that peer-grading was not a violation of FERPA. This is because a grade written on a student\\'s work does not become an \"education record\" until the teacher writes the final grade into a grade book.[6]\\n\\nStudent medical records[edit]\\nLegal experts have debated the issue of whether student medical records (for example records of therapy sessions with a therapist at an on-campus counseling center) might be released to the school administration under certain triggering events, such as when a student sued his college or university.[7][8]\\n\\nUsually, student medical treatment records will remain under the protection of FERPA, not the Health Insurance Portability and Accountability Act (HIPAA). This is due to the \"FERPA Exception\" written within HIPAA.[9]\\n'"
      ]
     },
     "execution_count": 20,
     "metadata": {},
     "output_type": "execute_result"
    }
   ],
   "source": [
    "# Let's look at a more complex example, and load some data scrapped from wikipedia\n",
    "with open (r\"C:\\Users\\user\\Desktop\\ferpa.txt.txt\") as file:\n",
    "            #we'll read that into a variable called wiki\n",
    "            wiki = file.read()\n",
    "#Let's print that variable out to the screen\n",
    "wiki"
   ]
  },
  {
   "cell_type": "code",
   "execution_count": 21,
   "id": "3be814fd-2567-4c1a-a45d-e0500d584227",
   "metadata": {},
   "outputs": [
    {
     "data": {
      "text/plain": [
       "['Overview[edit]', 'records[edit]', 'records[edit]']"
      ]
     },
     "execution_count": 21,
     "metadata": {},
     "output_type": "execute_result"
    }
   ],
   "source": [
    "#Scanning through this document, one of the things we notice is that the headers all have words [edit] behind them, followed by a newline character.\n",
    "#So, if we wanted to get a list of all of the headers in this article, we could do so using re.findall\n",
    "re.findall(\"[a-zA-Z]{1,100}\\[edit\\]\", wiki)"
   ]
  },
  {
   "cell_type": "code",
   "execution_count": 22,
   "id": "27dc282c-50c6-4775-bb87-a6f9937a6ea5",
   "metadata": {},
   "outputs": [
    {
     "data": {
      "text/plain": [
       "['Overview[edit]', 'records[edit]', 'records[edit]']"
      ]
     },
     "execution_count": 22,
     "metadata": {},
     "output_type": "execute_result"
    }
   ],
   "source": [
    "#That didn't quite work. It got all of the headers, but only the last word of the header, and it really was quite clunky.\n",
    "#Let's iteratively improve this. First, we can use \\w to match any letter, including digits and numbers.\n",
    "re.findall(\"[\\w]{1,100}\\[edit\\]\", wiki)"
   ]
  },
  {
   "cell_type": "markdown",
   "id": "98662308-2c00-4440-a2b2-299d90648b8b",
   "metadata": {},
   "source": [
    "This is something new. \\w is a metacharacter, and indicates a special pattern of any letter or digit.\n",
    "There are actually a number of different metacharacters listed in the documentation. For instance,\\s matches any whitespace character."
   ]
  },
  {
   "cell_type": "code",
   "execution_count": 23,
   "id": "0478d091-ae5b-4fe2-b2b1-f0b85a30c6e2",
   "metadata": {},
   "outputs": [
    {
     "data": {
      "text/plain": [
       "['Overview[edit]', 'records[edit]', 'records[edit]']"
      ]
     },
     "execution_count": 23,
     "metadata": {},
     "output_type": "execute_result"
    }
   ],
   "source": [
    "# Next, there are three other quantifiers we can use which shorten up the curly brace syntax. We can use an asterix * to match 0 or more times, so let's try that.\n",
    "re.findall(\"[\\w]*\\[edit\\]\", wiki)"
   ]
  },
  {
   "cell_type": "code",
   "execution_count": 24,
   "id": "3cf2513c-45b2-4bb6-a45c-41217a9a2fdc",
   "metadata": {},
   "outputs": [
    {
     "data": {
      "text/plain": [
       "['Overview[edit]',\n",
       " 'Access to public records[edit]',\n",
       " 'Student medical records[edit]']"
      ]
     },
     "execution_count": 24,
     "metadata": {},
     "output_type": "execute_result"
    }
   ],
   "source": [
    "# Now that we have shortened the regex, let's improve it a little bit. We can add in a space using the space character\n",
    "re.findall(\"[\\w ]*\\[edit\\]\", wiki)"
   ]
  },
  {
   "cell_type": "code",
   "execution_count": 25,
   "id": "55948574-d3d2-4e14-bbe1-54e4e9de048b",
   "metadata": {},
   "outputs": [
    {
     "name": "stdout",
     "output_type": "stream",
     "text": [
      "Overview\n",
      "Access to public records\n",
      "Student medical records\n"
     ]
    }
   ],
   "source": [
    "# This gets us the list of section titles in the wikipedia page! You can create a list of titles by iterating through this and applying nother regex\n",
    "for title in re.findall(\"[\\w ]*\\[edit\\]\", wiki):\n",
    "    # Now we will take that intermediate result and split on the square bracket [ just taking the first result\n",
    "    print(re.split(\"[\\[]\",title)[0])"
   ]
  },
  {
   "cell_type": "markdown",
   "id": "75ac69f1-c421-4edc-b009-602806d4dc08",
   "metadata": {},
   "source": [
    "#### Groups\n",
    "\n",
    "To this point, we have been talking about a regex as a single pattern which is matched. But, you can actually match different patterns, called groups, at the same time, and then refer to the groups you want. To group patterns together, you use parenthesis which is actually pretty natural"
   ]
  },
  {
   "cell_type": "code",
   "execution_count": 26,
   "id": "138e04f9-be07-412b-9640-2a0af8cfd758",
   "metadata": {},
   "outputs": [
    {
     "data": {
      "text/plain": [
       "[('Overview', '[edit]'),\n",
       " ('Access to public records', '[edit]'),\n",
       " ('Student medical records', '[edit]')]"
      ]
     },
     "execution_count": 26,
     "metadata": {},
     "output_type": "execute_result"
    }
   ],
   "source": [
    "# lets rewrite our findall using groups\n",
    "re.findall(\"([\\w ]*)(\\[edit\\])\", wiki)"
   ]
  },
  {
   "cell_type": "markdown",
   "id": "9fd7d8fa-7481-4729-a9c8-4dd09d9c3b4c",
   "metadata": {},
   "source": [
    "We see that the python re module breaks out the results by group. We can actually refer to groups by number as well with the match objects that are returned. But, how do we get back a list of match objects?\n",
    "\n",
    "Thus far, we've seen that findall() returns strings, and search() and match() return individual Match objects. But what do we do if we want a list of Match objects?  "
   ]
  },
  {
   "cell_type": "code",
   "execution_count": 27,
   "id": "7e298e50-e76a-4f5c-b0e0-517333c7fbcd",
   "metadata": {},
   "outputs": [
    {
     "name": "stdout",
     "output_type": "stream",
     "text": [
      "('Overview', '[edit]')\n",
      "('Access to public records', '[edit]')\n",
      "('Student medical records', '[edit]')\n"
     ]
    }
   ],
   "source": [
    "# In this case, we use the function finditer()\n",
    "for item in re.finditer(\"([\\w ]*)(\\[edit\\])\", wiki):\n",
    "    print(item.groups())"
   ]
  },
  {
   "cell_type": "markdown",
   "id": "cd67d7b7-6da9-4fe3-abaf-3dafc5188292",
   "metadata": {},
   "source": [
    "We see here that the groups() method returns a tuple of the group.\n",
    "We can get an individual group using group(number), where group(0) is the whole match, and each other number is the portion of the match we are interested in."
   ]
  },
  {
   "cell_type": "code",
   "execution_count": 28,
   "id": "6041d734-7ac0-43a8-a1b2-64b19a3cb286",
   "metadata": {},
   "outputs": [
    {
     "name": "stdout",
     "output_type": "stream",
     "text": [
      "('Overview', '[edit]')\n",
      "('Access to public records', '[edit]')\n",
      "('Student medical records', '[edit]')\n"
     ]
    }
   ],
   "source": [
    "# In this case, we want group(1)\n",
    "for item in re.finditer(\"([\\w ]*)(\\[edit\\])\", wiki):\n",
    "    print(item.groups(1))"
   ]
  },
  {
   "cell_type": "markdown",
   "id": "6957302b-7ccd-4a88-8316-005306716a06",
   "metadata": {},
   "source": [
    "One more piece to regex groups though hardly used but a good idea is the labelling or naming groups. In the previous example, we see how we can use the position of the group. But giving them a label and looking at the results as a dictionary is prettye useful. for that we use the syntax (?P<name>), where the parenthesis starts the group, the ?P indicates that this is an extension to basic regexes, and <name> is the dictionary key we want to use wrapped in <>."
   ]
  },
  {
   "cell_type": "code",
   "execution_count": 29,
   "id": "444c38e3-e99a-46af-8b4a-580cd18725f0",
   "metadata": {},
   "outputs": [
    {
     "name": "stdout",
     "output_type": "stream",
     "text": [
      "Overview\n",
      "Access to public records\n",
      "Student medical records\n"
     ]
    }
   ],
   "source": [
    "for item in re.finditer(\"(?P<title>[\\w ]*)(?P<edit_link>\\[edit\\])\", wiki):\n",
    "    # We can get the dictionary returned for the item with .groupdict()\n",
    "    print(item.groupdict()['title'])"
   ]
  },
  {
   "cell_type": "code",
   "execution_count": 30,
   "id": "91293e69-9433-4623-bdd4-ace15015f629",
   "metadata": {},
   "outputs": [
    {
     "name": "stdout",
     "output_type": "stream",
     "text": [
      "{'title': 'Student medical records', 'edit_link': '[edit]'}\n"
     ]
    }
   ],
   "source": [
    "# We can print out the whole dictionary for the item too, and see that the [edit] string is still in there. \n",
    "# Here's the dictionary kept for the last match\n",
    "print(item.groupdict())"
   ]
  },
  {
   "cell_type": "markdown",
   "id": "77c19ae8-db16-4562-a899-62ac07003f15",
   "metadata": {},
   "source": [
    "We have seen how we can match individual character patterns with [], how we can group matches together using(), and how we can use quantifiers such as *, ?, or m{n} to describe patterns. Something we glossed over in the previous example was the \\w, which standards for any word character.\n",
    "There are a number of short hands which are used with regexes for different kinds of characters including:\n",
    "- a . for any single character which is not a newline\n",
    "- a \\d for any digit\n",
    "- and \\s for any whitespace character, like spaces and tabs.\n",
    "\n",
    "There are more , and a full list can be found in the python documentation for regexes"
   ]
  },
  {
   "cell_type": "markdown",
   "id": "01bd4e63-ba63-4a95-be4d-2ed3d08bc4d3",
   "metadata": {},
   "source": [
    "#### Look-ahead and Look-behind\n",
    "\n",
    "One more concept to be familiar with is called \"look ahead\" and \"look behind\" matching. In this case, the pattern being given to the regex engine is for text either before or after the text we are trying to isolate. \n",
    "\n",
    "For example, in our headers, we want to isolate text which comes before the [edit] rendering, but we actually dont care about the [edit] text itself. Thus far, we have been throwing the [edit] away, but if we want to use them to match but dont want to capture them, we could put them in a group and use look ahead instead with ?= syntax."
   ]
  },
  {
   "cell_type": "code",
   "execution_count": 31,
   "id": "7ebef190-792a-4a43-8c9f-5aaf530bc0c8",
   "metadata": {},
   "outputs": [
    {
     "name": "stdout",
     "output_type": "stream",
     "text": [
      "<re.Match object; span=(0, 8), match='Overview'>\n",
      "<re.Match object; span=(2715, 2739), match='Access to public records'>\n",
      "<re.Match object; span=(3692, 3715), match='Student medical records'>\n"
     ]
    }
   ],
   "source": [
    "for item in re.finditer(\"(?P<title>[\\w ]+)(?=\\[edit\\])\", wiki):\n",
    "    # what this regex says is match the groups, the first will be named and called title, will have any amount of whitespace or regular word characters,\n",
    "    # the second will be the characters [edit] but we dont actually want this edit put in our output match objects\n",
    "    print(item)"
   ]
  },
  {
   "cell_type": "markdown",
   "id": "d24cc022-4499-4c7c-88d0-9630440d43cb",
   "metadata": {},
   "source": [
    "#### Example: Wikipedia Data"
   ]
  },
  {
   "cell_type": "code",
   "execution_count": 63,
   "id": "761eab5d-1414-4062-b2b9-d351700f8699",
   "metadata": {},
   "outputs": [
    {
     "data": {
      "text/plain": [
       "'þÿ\\x00B\\x00u\\x00d\\x00d\\x00h\\x00i\\x00s\\x00t\\x00 \\x00u\\x00n\\x00i\\x00v\\x00e\\x00r\\x00s\\x00i\\x00t\\x00i\\x00e\\x00s\\x00 \\x00a\\x00n\\x00d\\x00 \\x00c\\x00o\\x00l\\x00l\\x00e\\x00g\\x00e\\x00s\\x00 \\x00i\\x00n\\x00 \\x00t\\x00h\\x00e\\x00 \\x00U\\x00n\\x00i\\x00t\\x00e\\x00d\\x00 \\x00S\\x00t\\x00a\\x00t\\x00e\\x00s\\x00\\n\\x00\\n\\x00F\\x00r\\x00o\\x00m\\x00 \\x00W\\x00i\\x00k\\x00i\\x00p\\x00e\\x00d\\x00i\\x00a\\x00,\\x00 \\x00t\\x00h\\x00e\\x00 \\x00f\\x00r\\x00e\\x00e\\x00 \\x00e\\x00n\\x00c\\x00y\\x00c\\x00l\\x00o\\x00p\\x00e\\x00d\\x00i\\x00a\\x00\\n\\x00\\n\\x00J\\x00u\\x00m\\x00p\\x00 \\x00t\\x00o\\x00 \\x00n\\x00a\\x00v\\x00i\\x00g\\x00a\\x00t\\x00i\\x00o\\x00n\\x00J\\x00u\\x00m\\x00p\\x00 \\x00t\\x00o\\x00 \\x00s\\x00e\\x00a\\x00r\\x00c\\x00h\\x00\\n\\x00\\n\\x00\\n\\x00\\n\\x00T\\x00h\\x00i\\x00s\\x00 \\x00a\\x00r\\x00t\\x00i\\x00c\\x00l\\x00e\\x00 \\x00n\\x00e\\x00e\\x00d\\x00s\\x00 \\x00a\\x00d\\x00d\\x00i\\x00t\\x00i\\x00o\\x00n\\x00a\\x00l\\x00 \\x00c\\x00i\\x00t\\x00a\\x00t\\x00i\\x00o\\x00n\\x00s\\x00 \\x00f\\x00o\\x00r\\x00 \\x00v\\x00e\\x00r\\x00i\\x00f\\x00i\\x00c\\x00a\\x00t\\x00i\\x00o\\x00n\\x00.\\x00 \\x00P\\x00l\\x00e\\x00a\\x00s\\x00e\\x00 \\x00h\\x00e\\x00l\\x00p\\x00 \\x00i\\x00m\\x00p\\x00r\\x00o\\x00v\\x00e\\x00 \\x00t\\x00h\\x00i\\x00s\\x00 \\x00a\\x00r\\x00t\\x00i\\x00c\\x00l\\x00e\\x00 \\x00b\\x00y\\x00 \\x00a\\x00d\\x00d\\x00i\\x00n\\x00g\\x00 \\x00c\\x00i\\x00t\\x00a\\x00t\\x00i\\x00o\\x00n\\x00s\\x00 \\x00t\\x00o\\x00 \\x00r\\x00e\\x00l\\x00i\\x00a\\x00b\\x00l\\x00e\\x00 \\x00s\\x00o\\x00u\\x00r\\x00c\\x00e\\x00s\\x00.\\x00 \\x00U\\x00n\\x00s\\x00o\\x00u\\x00r\\x00c\\x00e\\x00d\\x00 \\x00m\\x00a\\x00t\\x00e\\x00r\\x00i\\x00a\\x00l\\x00 \\x00m\\x00a\\x00y\\x00 \\x00b\\x00e\\x00 \\x00c\\x00h\\x00a\\x00l\\x00l\\x00e\\x00n\\x00g\\x00e\\x00d\\x00 \\x00a\\x00n\\x00d\\x00 \\x00r\\x00e\\x00m\\x00o\\x00v\\x00e\\x00d\\x00.\\x00\\n\\x00\\n\\x00F\\x00i\\x00n\\x00d\\x00 \\x00s\\x00o\\x00u\\x00r\\x00c\\x00e\\x00s\\x00:\\x00 \\x00\"\\x00B\\x00u\\x00d\\x00d\\x00h\\x00i\\x00s\\x00t\\x00 \\x00u\\x00n\\x00i\\x00v\\x00e\\x00r\\x00s\\x00i\\x00t\\x00i\\x00e\\x00s\\x00 \\x00a\\x00n\\x00d\\x00 \\x00c\\x00o\\x00l\\x00l\\x00e\\x00g\\x00e\\x00s\\x00 \\x00i\\x00n\\x00 \\x00t\\x00h\\x00e\\x00 \\x00U\\x00n\\x00i\\x00t\\x00e\\x00d\\x00 \\x00S\\x00t\\x00a\\x00t\\x00e\\x00s\\x00\"\\x00  \\x13\\x00 \\x00n\\x00e\\x00w\\x00s\\x00 \\x00·\\x00 \\x00n\\x00e\\x00w\\x00s\\x00p\\x00a\\x00p\\x00e\\x00r\\x00s\\x00 \\x00·\\x00 \\x00b\\x00o\\x00o\\x00k\\x00s\\x00 \\x00·\\x00 \\x00s\\x00c\\x00h\\x00o\\x00l\\x00a\\x00r\\x00 \\x00·\\x00 \\x00J\\x00S\\x00T\\x00O\\x00R\\x00 \\x00(\\x00D\\x00e\\x00c\\x00e\\x00m\\x00b\\x00e\\x00r\\x00 \\x002\\x000\\x000\\x009\\x00)\\x00 \\x00(\\x00L\\x00e\\x00a\\x00r\\x00n\\x00 \\x00h\\x00o\\x00w\\x00 \\x00a\\x00n\\x00d\\x00 \\x00w\\x00h\\x00e\\x00n\\x00 \\x00t\\x00o\\x00 \\x00r\\x00e\\x00m\\x00o\\x00v\\x00e\\x00 \\x00t\\x00h\\x00i\\x00s\\x00 \\x00t\\x00e\\x00m\\x00p\\x00l\\x00a\\x00t\\x00e\\x00 \\x00m\\x00e\\x00s\\x00s\\x00a\\x00g\\x00e\\x00)\\x00\\n\\x00\\n\\x00T\\x00h\\x00e\\x00r\\x00e\\x00 \\x00a\\x00r\\x00e\\x00 \\x00s\\x00e\\x00v\\x00e\\x00r\\x00a\\x00l\\x00 \\x00B\\x00u\\x00d\\x00d\\x00h\\x00i\\x00s\\x00t\\x00 \\x00u\\x00n\\x00i\\x00v\\x00e\\x00r\\x00s\\x00i\\x00t\\x00i\\x00e\\x00s\\x00 \\x00i\\x00n\\x00 \\x00t\\x00h\\x00e\\x00 \\x00U\\x00n\\x00i\\x00t\\x00e\\x00d\\x00 \\x00S\\x00t\\x00a\\x00t\\x00e\\x00s\\x00.\\x00 \\x00S\\x00o\\x00m\\x00e\\x00 \\x00o\\x00f\\x00 \\x00t\\x00h\\x00e\\x00s\\x00e\\x00 \\x00h\\x00a\\x00v\\x00e\\x00 \\x00e\\x00x\\x00i\\x00s\\x00t\\x00e\\x00d\\x00 \\x00f\\x00o\\x00r\\x00 \\x00d\\x00e\\x00c\\x00a\\x00d\\x00e\\x00s\\x00 \\x00a\\x00n\\x00d\\x00 \\x00a\\x00r\\x00e\\x00 \\x00a\\x00c\\x00c\\x00r\\x00e\\x00d\\x00i\\x00t\\x00e\\x00d\\x00.\\x00 \\x00O\\x00t\\x00h\\x00e\\x00r\\x00s\\x00 \\x00a\\x00r\\x00e\\x00 \\x00r\\x00e\\x00l\\x00a\\x00t\\x00i\\x00v\\x00e\\x00l\\x00y\\x00 \\x00n\\x00e\\x00w\\x00 \\x00a\\x00n\\x00d\\x00 \\x00a\\x00r\\x00e\\x00 \\x00e\\x00i\\x00t\\x00h\\x00e\\x00r\\x00 \\x00i\\x00n\\x00 \\x00t\\x00h\\x00e\\x00 \\x00p\\x00r\\x00o\\x00c\\x00e\\x00s\\x00s\\x00 \\x00o\\x00f\\x00 \\x00b\\x00e\\x00i\\x00n\\x00g\\x00 \\x00a\\x00c\\x00c\\x00r\\x00e\\x00d\\x00i\\x00t\\x00e\\x00d\\x00 \\x00o\\x00r\\x00 \\x00e\\x00l\\x00s\\x00e\\x00 \\x00h\\x00a\\x00v\\x00e\\x00 \\x00n\\x00o\\x00 \\x00f\\x00o\\x00r\\x00m\\x00a\\x00l\\x00 \\x00a\\x00c\\x00c\\x00r\\x00e\\x00d\\x00i\\x00t\\x00a\\x00t\\x00i\\x00o\\x00n\\x00.\\x00 \\x00T\\x00h\\x00e\\x00 \\x00l\\x00i\\x00s\\x00t\\x00 \\x00i\\x00n\\x00c\\x00l\\x00u\\x00d\\x00e\\x00s\\x00:\\x00\\n\\x00\\n\\x00\\n\\x00\\n\\x00D\\x00h\\x00a\\x00m\\x00m\\x00a\\x00k\\x00a\\x00y\\x00a\\x00 \\x00O\\x00p\\x00e\\x00n\\x00 \\x00U\\x00n\\x00i\\x00v\\x00e\\x00r\\x00s\\x00i\\x00t\\x00y\\x00  \\x13\\x00 \\x00l\\x00o\\x00c\\x00a\\x00t\\x00e\\x00d\\x00 \\x00i\\x00n\\x00 \\x00A\\x00z\\x00u\\x00s\\x00a\\x00,\\x00 \\x00C\\x00a\\x00l\\x00i\\x00f\\x00o\\x00r\\x00n\\x00i\\x00a\\x00,\\x00 \\x00p\\x00a\\x00r\\x00t\\x00 \\x00o\\x00f\\x00 \\x00t\\x00h\\x00e\\x00 \\x00T\\x00h\\x00a\\x00i\\x00 \\x00W\\x00a\\x00t\\x00 \\x00P\\x00h\\x00r\\x00a\\x00 \\x00D\\x00h\\x00a\\x00m\\x00m\\x00a\\x00k\\x00a\\x00y\\x00a\\x00[\\x001\\x00]\\x00\\n\\x00\\n\\x00D\\x00h\\x00a\\x00r\\x00m\\x00a\\x00k\\x00i\\x00r\\x00t\\x00i\\x00 \\x00C\\x00o\\x00l\\x00l\\x00e\\x00g\\x00e\\x00  \\x13\\x00 \\x00l\\x00o\\x00c\\x00a\\x00t\\x00e\\x00d\\x00 \\x00i\\x00n\\x00 \\x00T\\x00u\\x00c\\x00s\\x00o\\x00n\\x00,\\x00 \\x00A\\x00r\\x00i\\x00z\\x00o\\x00n\\x00a\\x00 \\x00N\\x00o\\x00w\\x00 \\x00c\\x00a\\x00l\\x00l\\x00e\\x00d\\x00 \\x00A\\x00w\\x00a\\x00m\\x00 \\x00T\\x00i\\x00b\\x00e\\x00t\\x00a\\x00n\\x00 \\x00B\\x00u\\x00d\\x00d\\x00h\\x00i\\x00s\\x00t\\x00 \\x00I\\x00n\\x00s\\x00t\\x00i\\x00t\\x00u\\x00t\\x00e\\x00 \\x00(\\x00h\\x00t\\x00t\\x00p\\x00:\\x00/\\x00/\\x00a\\x00w\\x00a\\x00m\\x00i\\x00n\\x00s\\x00t\\x00i\\x00t\\x00u\\x00t\\x00e\\x00.\\x00o\\x00r\\x00g\\x00/\\x00)\\x00\\n\\x00\\n\\x00D\\x00h\\x00a\\x00r\\x00m\\x00a\\x00 \\x00R\\x00e\\x00a\\x00l\\x00m\\x00 \\x00B\\x00u\\x00d\\x00d\\x00h\\x00i\\x00s\\x00t\\x00 \\x00U\\x00n\\x00i\\x00v\\x00e\\x00r\\x00s\\x00i\\x00t\\x00y\\x00  \\x13\\x00 \\x00l\\x00o\\x00c\\x00a\\x00t\\x00e\\x00d\\x00 \\x00i\\x00n\\x00 \\x00U\\x00k\\x00i\\x00a\\x00h\\x00,\\x00 \\x00C\\x00a\\x00l\\x00i\\x00f\\x00o\\x00r\\x00n\\x00i\\x00a\\x00\\n\\x00\\n\\x00E\\x00w\\x00a\\x00m\\x00 \\x00B\\x00u\\x00d\\x00d\\x00h\\x00i\\x00s\\x00t\\x00 \\x00I\\x00n\\x00s\\x00t\\x00i\\x00t\\x00u\\x00t\\x00e\\x00  \\x13\\x00 \\x00l\\x00o\\x00c\\x00a\\x00t\\x00e\\x00d\\x00 \\x00i\\x00n\\x00 \\x00A\\x00r\\x00l\\x00e\\x00e\\x00,\\x00 \\x00M\\x00o\\x00n\\x00t\\x00a\\x00n\\x00a\\x00\\n\\x00\\n\\x00N\\x00a\\x00r\\x00o\\x00p\\x00a\\x00 \\x00U\\x00n\\x00i\\x00v\\x00e\\x00r\\x00s\\x00i\\x00t\\x00y\\x00 \\x00i\\x00s\\x00 \\x00l\\x00o\\x00c\\x00a\\x00t\\x00e\\x00d\\x00 \\x00i\\x00n\\x00 \\x00B\\x00o\\x00u\\x00l\\x00d\\x00e\\x00r\\x00,\\x00 \\x00C\\x00o\\x00l\\x00o\\x00r\\x00a\\x00d\\x00o\\x00 \\x00(\\x00A\\x00c\\x00c\\x00r\\x00e\\x00d\\x00i\\x00t\\x00e\\x00d\\x00 \\x00b\\x00y\\x00 \\x00t\\x00h\\x00e\\x00 \\x00H\\x00i\\x00g\\x00h\\x00e\\x00r\\x00 \\x00L\\x00e\\x00a\\x00r\\x00n\\x00i\\x00n\\x00g\\x00 \\x00C\\x00o\\x00m\\x00m\\x00i\\x00s\\x00s\\x00i\\x00o\\x00n\\x00)\\x00\\n\\x00\\n\\x00I\\x00n\\x00s\\x00t\\x00i\\x00t\\x00u\\x00t\\x00e\\x00 \\x00o\\x00f\\x00 \\x00B\\x00u\\x00d\\x00d\\x00h\\x00i\\x00s\\x00t\\x00 \\x00S\\x00t\\x00u\\x00d\\x00i\\x00e\\x00s\\x00  \\x13\\x00 \\x00l\\x00o\\x00c\\x00a\\x00t\\x00e\\x00d\\x00 \\x00i\\x00n\\x00 \\x00B\\x00e\\x00r\\x00k\\x00e\\x00l\\x00e\\x00y\\x00,\\x00 \\x00C\\x00a\\x00l\\x00i\\x00f\\x00o\\x00r\\x00n\\x00i\\x00a\\x00\\n\\x00\\n\\x00M\\x00a\\x00i\\x00t\\x00r\\x00i\\x00p\\x00a\\x00 \\x00C\\x00o\\x00l\\x00l\\x00e\\x00g\\x00e\\x00  \\x13\\x00 \\x00l\\x00o\\x00c\\x00a\\x00t\\x00e\\x00d\\x00 \\x00i\\x00n\\x00 \\x00P\\x00o\\x00r\\x00t\\x00l\\x00a\\x00n\\x00d\\x00,\\x00 \\x00O\\x00r\\x00e\\x00g\\x00o\\x00n\\x00\\n\\x00\\n\\x00S\\x00o\\x00k\\x00a\\x00 \\x00U\\x00n\\x00i\\x00v\\x00e\\x00r\\x00s\\x00i\\x00t\\x00y\\x00 \\x00o\\x00f\\x00 \\x00A\\x00m\\x00e\\x00r\\x00i\\x00c\\x00a\\x00  \\x13\\x00 \\x00l\\x00o\\x00c\\x00a\\x00t\\x00e\\x00d\\x00 \\x00i\\x00n\\x00 \\x00A\\x00l\\x00i\\x00s\\x00o\\x00 \\x00V\\x00i\\x00e\\x00j\\x00o\\x00,\\x00 \\x00C\\x00a\\x00l\\x00i\\x00f\\x00o\\x00r\\x00n\\x00i\\x00a\\x00\\n\\x00\\n\\x00U\\x00n\\x00i\\x00v\\x00e\\x00r\\x00s\\x00i\\x00t\\x00y\\x00 \\x00o\\x00f\\x00 \\x00t\\x00h\\x00e\\x00 \\x00W\\x00e\\x00s\\x00t\\x00  \\x13\\x00 \\x00l\\x00o\\x00c\\x00a\\x00t\\x00e\\x00d\\x00 \\x00i\\x00n\\x00 \\x00R\\x00o\\x00s\\x00e\\x00m\\x00e\\x00a\\x00d\\x00,\\x00 \\x00C\\x00a\\x00l\\x00i\\x00f\\x00o\\x00r\\x00n\\x00i\\x00a\\x00\\n\\x00\\n\\x00W\\x00o\\x00n\\x00 \\x00I\\x00n\\x00s\\x00t\\x00i\\x00t\\x00u\\x00t\\x00e\\x00 \\x00o\\x00f\\x00 \\x00G\\x00r\\x00a\\x00d\\x00u\\x00a\\x00t\\x00e\\x00 \\x00S\\x00t\\x00u\\x00d\\x00i\\x00e\\x00s\\x00  \\x13\\x00 \\x00l\\x00o\\x00c\\x00a\\x00t\\x00e\\x00d\\x00 \\x00i\\x00n\\x00 \\x00G\\x00l\\x00e\\x00n\\x00s\\x00i\\x00d\\x00e\\x00,\\x00 \\x00P\\x00e\\x00n\\x00n\\x00s\\x00y\\x00l\\x00v\\x00a\\x00n\\x00i\\x00a\\x00\\n\\x00\\n\\x00R\\x00e\\x00f\\x00e\\x00r\\x00e\\x00n\\x00c\\x00e\\x00s\\x00[\\x00e\\x00d\\x00i\\x00t\\x00]\\x00\\n\\x00\\n\\x00^\\x00 \\x00B\\x00a\\x00n\\x00c\\x00h\\x00a\\x00n\\x00o\\x00n\\x00,\\x00 \\x00P\\x00h\\x00o\\x00n\\x00g\\x00p\\x00h\\x00i\\x00p\\x00h\\x00a\\x00t\\x00 \\x00(\\x003\\x00 \\x00F\\x00e\\x00b\\x00r\\x00u\\x00a\\x00r\\x00y\\x00 \\x002\\x000\\x001\\x005\\x00)\\x00.\\x00 \\x0e#\\x0e9\\x0eI\\x0e\\x08\\x0e1\\x0e\\x01\\x00 \\x00\"\\x0e@\\x0e\\x04\\x0e#\\x0e7\\x0e-\\x0e\\x02\\x0eH\\x0e2\\x0e\"\\x0e\\x18\\x0e#\\x0e#\\x0e!\\x0e\\x01\\x0e2\\x0e\"\\x00\"\\x00 \\x00[\\x00G\\x00e\\x00t\\x00t\\x00i\\x00n\\x00g\\x00 \\x00t\\x00o\\x00 \\x00k\\x00n\\x00o\\x00w\\x00 \\x00t\\x00h\\x00e\\x00 \\x00D\\x00h\\x00a\\x00m\\x00m\\x00a\\x00k\\x00a\\x00y\\x00a\\x00 \\x00n\\x00e\\x00t\\x00w\\x00o\\x00r\\x00k\\x00]\\x00.\\x00 \\x00F\\x00o\\x00r\\x00b\\x00e\\x00s\\x00 \\x00T\\x00h\\x00a\\x00i\\x00l\\x00a\\x00n\\x00d\\x00 \\x00(\\x00i\\x00n\\x00 \\x00T\\x00h\\x00a\\x00i\\x00)\\x00.\\x00 \\x00R\\x00e\\x00t\\x00r\\x00i\\x00e\\x00v\\x00e\\x00d\\x00 \\x001\\x001\\x00 \\x00N\\x00o\\x00v\\x00e\\x00m\\x00b\\x00e\\x00r\\x00 \\x002\\x000\\x001\\x006\\x00.\\x00\\n\\x00\\n\\x00E\\x00x\\x00t\\x00e\\x00r\\x00n\\x00a\\x00l\\x00 \\x00l\\x00i\\x00n\\x00k\\x00s\\x00[\\x00e\\x00d\\x00i\\x00t\\x00]\\x00\\n\\x00\\n\\x00L\\x00i\\x00s\\x00t\\x00 \\x00o\\x00f\\x00 \\x00B\\x00u\\x00d\\x00d\\x00h\\x00i\\x00s\\x00t\\x00 \\x00U\\x00n\\x00i\\x00v\\x00e\\x00r\\x00s\\x00i\\x00t\\x00i\\x00e\\x00s\\x00 \\x00a\\x00n\\x00d\\x00 \\x00C\\x00o\\x00l\\x00l\\x00e\\x00g\\x00e\\x00s\\x00 \\x00i\\x00n\\x00 \\x00t\\x00h\\x00e\\x00 \\x00w\\x00o\\x00r\\x00l\\x00d\\x00\\n\\x00\\n'"
      ]
     },
     "execution_count": 63,
     "metadata": {},
     "output_type": "execute_result"
    }
   ],
   "source": [
    "# Let's look at some more wikipedia data. Here's some data on universities in the US which are buddhist.based\n",
    "with open (r\"C:\\Users\\user\\Desktop\\buddhist.txt.txt\") as file:\n",
    "            #we'll read that into a variable called wiki\n",
    "            wiki = file.read()\n",
    "#Let's print that variable out to the screen\n",
    "wiki"
   ]
  },
  {
   "cell_type": "markdown",
   "id": "2744b860-58dc-48ea-b618-5945c33181bb",
   "metadata": {},
   "source": [
    "We can see that each university follows a fairly similar pattern, with the name followed by an - then the words \"located in\" followed by the city and the state.\n",
    "\n",
    "We will use the example to show the verbose mode of python regexes. The verbose mode allows us to write multi-line regexes and increases readability. For this mode, we have to explicitly indicate all whitespace characters, either by prepending them with a \\ or by using the \\s special value. However, this means we can write our regex a bit more like code, and can even include comments with #"
   ]
  },
  {
   "cell_type": "code",
   "execution_count": 65,
   "id": "768d840a-fb29-41b3-aaa4-13b6f51af14d",
   "metadata": {},
   "outputs": [],
   "source": [
    "pattern = \"\"\"\n",
    "(?P<title>.*)      #the university title\n",
    "(-\\ located\\ in\\ ) #an indicator of the location\n",
    "(?P<city>\\w*)      #city the university is in\n",
    "(,\\ )              #separator for the state\n",
    "(?P<state>\\w*)     #the state the city is located in\"\"\"\n",
    "\n",
    "# Now when we call finditer(), we just pass the re.VERBOSE flag as the last parameter, this makes it such\n",
    "# easier to understand large regexes!\n",
    "for item in re.finditer(pattern,wiki,re.VERBOSE):\n",
    "    # we can get the dictionary returned for the item with .groupdict()\n",
    "    print(item.groupdict())"
   ]
  },
  {
   "cell_type": "markdown",
   "id": "85264c21-b33a-42df-8bee-9f527237c188",
   "metadata": {},
   "source": [
    "#### Example: New york Times and Hashtags"
   ]
  },
  {
   "cell_type": "code",
   "execution_count": 72,
   "id": "50ef47ac-7074-4550-a271-2c22c107898c",
   "metadata": {},
   "outputs": [
    {
     "ename": "SyntaxError",
     "evalue": "(unicode error) 'unicodeescape' codec can't decode bytes in position 2-3: truncated \\UXXXXXXXX escape (1488400861.py, line 3)",
     "output_type": "error",
     "traceback": [
      "\u001b[1;36m  File \u001b[1;32m\"C:\\Users\\user\\AppData\\Local\\Temp\\ipykernel_30492\\1488400861.py\"\u001b[1;36m, line \u001b[1;32m3\u001b[0m\n\u001b[1;33m    with open (\"C:\\Users\\user\\Desktop\\nytimeshealth.txt\", \"r\") as file:\u001b[0m\n\u001b[1;37m                                                        ^\u001b[0m\n\u001b[1;31mSyntaxError\u001b[0m\u001b[1;31m:\u001b[0m (unicode error) 'unicodeescape' codec can't decode bytes in position 2-3: truncated \\UXXXXXXXX escape\n"
     ]
    }
   ],
   "source": [
    "# Here's another example from the New York Times which covers health tweets on news items.\n",
    "# This data came from the UC Irvine machine Learning Repository which is a great source of different kinds of data\n",
    "with open (\"C:\\Users\\user\\Desktop\\nytimeshealth.txt\", \"r\") as file:\n",
    "            #we'll read everything into a variable and take a look at it\n",
    "            health = file.read()\n",
    "health"
   ]
  },
  {
   "cell_type": "markdown",
   "id": "0e2fce0a-30d5-43ed-bbee-767fca6c7f3f",
   "metadata": {},
   "source": [
    "We can see that there are tweets with fields separated by pipes |. Let's try and get a list of all of the hashtags that are included in this data. A hashtag begins with a poud sign (or hash mark) and continues until some whitespace is found.\n",
    "\n",
    "So lets create a pattern. We want to include the hash sign first, then any number of alphanumeric characters. And we end when we see some whitespace."
   ]
  },
  {
   "cell_type": "code",
   "execution_count": null,
   "id": "2893f828-33f9-46b1-8466-8b523c492d26",
   "metadata": {},
   "outputs": [],
   "source": [
    "pattern = '#[\\w\\d]*(?=\\s)'\n",
    "# Notice that the ending is a look ahead. We're not actually interested in matching whitespace in the return value.\n",
    "# Also notice that we used an asterix * instead of the plus + for the matching of alphabetical characters or digits,\n",
    "# because a + would require at least one of each.\n",
    "\n",
    "# Lets search and display all of the hashtags\n",
    "re.findall(pattern, health)"
   ]
  },
  {
   "cell_type": "code",
   "execution_count": null,
   "id": "ca54a946-465f-4f0a-a76f-dcc98031269a",
   "metadata": {},
   "outputs": [],
   "source": [
    "# We can see here that there were lots of ebola related tweeks in this particular dataset"
   ]
  },
  {
   "cell_type": "markdown",
   "id": "c871fd8b-49fd-4099-bba3-f58cab18cef0",
   "metadata": {},
   "source": [
    "#### Python Regular Expressions(RegEx)\n",
    "\n",
    "##### Why use Regular Expressions?\n",
    "1. To identify the pattern to get date and time from a log file.\n",
    "2. To verify real and fake e-mail addresses.\n",
    "3. To verify phone numbers and find the country to which it belongs.\n",
    "4. To find a particular string from student data.\n",
    "5. It is compartible with all programming languages - Python, Java, Ruby, PHP, Swift, C#, Groovy, scala, JavaScript.\n",
    "6. It is used for web scrapping\n",
    "\n",
    "##### What is RegEx?\n",
    "\n",
    "RegEx is a specifice text string for describing a search pattern.\n",
    "\n",
    "##### Various operations to perform with RegEx.\n",
    "1. Find a word in a string.\n",
    "2. Generate an iterator.\n",
    "3. Match one of any of several letters.\n",
    "4. Match series of range of characters.\n",
    "5. Replace string.\n",
    "6. Match a single character."
   ]
  },
  {
   "cell_type": "code",
   "execution_count": 33,
   "id": "c882bd97-d15e-4760-b90d-3c275fad4b42",
   "metadata": {},
   "outputs": [],
   "source": [
    "import re"
   ]
  },
  {
   "cell_type": "code",
   "execution_count": 34,
   "id": "7d7de79f-fb64-48f1-b6ca-3b547f012a10",
   "metadata": {},
   "outputs": [
    {
     "name": "stdout",
     "output_type": "stream",
     "text": [
      "{'Janice': '22', 'Theon': '33', 'Gabriel': '44', 'Joey': '21'}\n"
     ]
    }
   ],
   "source": [
    "# To identify the pattern to get name and age\n",
    "Nameage = '''\n",
    "Janice is 22 and Theon is 33\n",
    "Gabriel is 44 and Joey is 21\n",
    "'''\n",
    "\n",
    "ages = re.findall(r'\\d{1,3}', Nameage)\n",
    "names = re.findall(r'[A-Z][a-z]*', Nameage)\n",
    "\n",
    "ageDict = {}\n",
    "\n",
    "x = 0\n",
    "\n",
    "for eachname in names:\n",
    "    ageDict[eachname] = ages[x]\n",
    "    x+=1\n",
    "print(ageDict)"
   ]
  },
  {
   "cell_type": "markdown",
   "id": "14aed2f1-4e51-4a7c-94f7-dc62e8817b5c",
   "metadata": {},
   "source": [
    "##### Cursor operations of RegEx\n",
    "\n",
    "Both the string and RegEx have their own cursor."
   ]
  },
  {
   "cell_type": "markdown",
   "id": "b91e03ca-a0c2-4786-9512-6807fffeab87",
   "metadata": {},
   "source": [
    "#### Various operations to perform with RegEx."
   ]
  },
  {
   "cell_type": "markdown",
   "id": "992ecb13-2442-4ae5-aa02-22dde3f10214",
   "metadata": {},
   "source": [
    "##### 1. Find a word in a string."
   ]
  },
  {
   "cell_type": "code",
   "execution_count": 35,
   "id": "9b26d67b-d09e-479a-9153-e4b9ff043ac2",
   "metadata": {},
   "outputs": [
    {
     "name": "stdout",
     "output_type": "stream",
     "text": [
      "There is inform\n"
     ]
    }
   ],
   "source": [
    "if re.search(\"inform\", \"we need to inform him with the latest information\"):\n",
    "    print(\"There is inform\")"
   ]
  },
  {
   "cell_type": "code",
   "execution_count": 36,
   "id": "a2f1fa6b-1e04-43d9-8d22-d740068f936b",
   "metadata": {},
   "outputs": [
    {
     "name": "stdout",
     "output_type": "stream",
     "text": [
      "inform\n",
      "inform\n"
     ]
    }
   ],
   "source": [
    "allinform = re.findall(\"inform\", \"we need to inform him with the latest information\")\n",
    "for i in allinform:\n",
    "    print(i)"
   ]
  },
  {
   "cell_type": "code",
   "execution_count": 37,
   "id": "22fe59a6-f63f-4f81-bd68-a7faaba73239",
   "metadata": {},
   "outputs": [
    {
     "name": "stdout",
     "output_type": "stream",
     "text": [
      "inform\n",
      "inform\n"
     ]
    }
   ],
   "source": [
    "allinform = re.findall(\"inform\", \"we need to inform him with the latest information\")\n",
    "for i in allinform:\n",
    "    print(i)"
   ]
  },
  {
   "cell_type": "code",
   "execution_count": 38,
   "id": "20480bab-5dd1-4486-9954-166cdcd59fae",
   "metadata": {},
   "outputs": [
    {
     "name": "stdout",
     "output_type": "stream",
     "text": [
      "inform\n",
      "inform\n"
     ]
    }
   ],
   "source": [
    "allinform = re.findall(\"inform\", \"we need to inform him with the latest information\")\n",
    "for i in allinform:\n",
    "    print(i)"
   ]
  },
  {
   "cell_type": "markdown",
   "id": "392974c4-a21f-4f76-a821-ca1c66a06fb9",
   "metadata": {},
   "source": [
    "##### 2. Generate an iterator."
   ]
  },
  {
   "cell_type": "code",
   "execution_count": 39,
   "id": "e83d0c50-d170-485b-80ea-6692d7cdbddb",
   "metadata": {},
   "outputs": [
    {
     "name": "stdout",
     "output_type": "stream",
     "text": [
      "(11, 17)\n",
      "(38, 44)\n"
     ]
    }
   ],
   "source": [
    "# we want the starting and the ending index of the matching object\n",
    "str = \"we need to inform him with the latest information\"\n",
    "\n",
    "for i in re.finditer(\"inform\", str):\n",
    "    loctup = i.span()\n",
    "    print(loctup)"
   ]
  },
  {
   "cell_type": "markdown",
   "id": "d23400f9-6bd1-422a-8098-d987d33bb994",
   "metadata": {},
   "source": [
    "##### 3. Match one of any of several letters."
   ]
  },
  {
   "cell_type": "code",
   "execution_count": 40,
   "id": "fcb78200-ff6b-477b-a8a4-5e32c6b166c0",
   "metadata": {},
   "outputs": [
    {
     "name": "stdout",
     "output_type": "stream",
     "text": [
      "hat\n",
      "mat\n",
      "pat\n"
     ]
    }
   ],
   "source": [
    "# matching words with a particular pattern\n",
    "str = \"Sat, hat, mat, pat\"\n",
    "allstr = re.findall(\"[shmp]at\", str)\n",
    "for i in allstr:\n",
    "    print(i)\n",
    "#note that the will print out words with only the lowercase"
   ]
  },
  {
   "cell_type": "code",
   "execution_count": 41,
   "id": "12a7dbc0-79b8-4d91-ab70-fb7aff17ad69",
   "metadata": {},
   "outputs": [
    {
     "name": "stdout",
     "output_type": "stream",
     "text": [
      "Sat\n",
      "hat\n",
      "mat\n",
      "pat\n"
     ]
    }
   ],
   "source": [
    "# To print out all words including the uppercase\n",
    "str = \"Sat, hat, mat, pat\"\n",
    "allstr = re.findall(\"[Shmp]at\", str)\n",
    "for i in allstr:\n",
    "    print(i)"
   ]
  },
  {
   "cell_type": "markdown",
   "id": "98ca5067-8be1-4eb3-a0f9-e74ae6021a85",
   "metadata": {},
   "source": [
    "##### 4. Match series of range of characters."
   ]
  },
  {
   "cell_type": "code",
   "execution_count": 42,
   "id": "36a528aa-ce35-4b91-85a1-e9141751fa53",
   "metadata": {},
   "outputs": [
    {
     "name": "stdout",
     "output_type": "stream",
     "text": [
      "hat\n",
      "mat\n"
     ]
    }
   ],
   "source": [
    "# To print all letters that fall between the range of h-m\n",
    "str = \"Sat, hat, mat, pat\"\n",
    "allstr = re.findall(\"[h-m]at\", str)\n",
    "for i in allstr:\n",
    "    print(i)"
   ]
  },
  {
   "cell_type": "code",
   "execution_count": 43,
   "id": "5c62e8be-1c59-42a0-b9a1-351f205692c5",
   "metadata": {},
   "outputs": [
    {
     "name": "stdout",
     "output_type": "stream",
     "text": [
      "hat\n",
      "mat\n",
      "pat\n"
     ]
    }
   ],
   "source": [
    "# if we want all the strings to be printed\n",
    "str = \"Sat, hat, mat, pat\"\n",
    "allstr = re.findall(\"[h-z]at\", str)\n",
    "for i in allstr:\n",
    "    print(i) # note that Sat is not printed cause of the uppercase"
   ]
  },
  {
   "cell_type": "code",
   "execution_count": 44,
   "id": "bb6ab0d2-8163-441a-9426-ac62b7fa0a92",
   "metadata": {},
   "outputs": [
    {
     "name": "stdout",
     "output_type": "stream",
     "text": [
      "sat\n",
      "hat\n",
      "mat\n",
      "pat\n"
     ]
    }
   ],
   "source": [
    "# making all words in the strings lowercase \n",
    "str = \"sat, hat, mat, pat\"\n",
    "allstr = re.findall(\"[h-z]at\", str)\n",
    "for i in allstr:\n",
    "    print(i)"
   ]
  },
  {
   "cell_type": "code",
   "execution_count": 45,
   "id": "fcd60f74-4c22-4209-8a02-b45ffbad13de",
   "metadata": {},
   "outputs": [
    {
     "name": "stdout",
     "output_type": "stream",
     "text": [
      "sat\n",
      "pat\n"
     ]
    }
   ],
   "source": [
    "# using a caret symbol ^ to include all the words with first letters between h-m\n",
    "# with the caret symbol, everything apart from the range h-m will be printed\n",
    "str = \"sat, hat, mat, pat\"\n",
    "allstr = re.findall(\"[^h-m]at\", str)\n",
    "for i in allstr:\n",
    "    print(i)"
   ]
  },
  {
   "cell_type": "markdown",
   "id": "c18f30a6-4e46-42ef-be29-55f5e82d46ff",
   "metadata": {},
   "source": [
    "##### 5. Replace string."
   ]
  },
  {
   "cell_type": "code",
   "execution_count": 46,
   "id": "55064f96-999a-46cb-916d-d8091cc68c62",
   "metadata": {},
   "outputs": [
    {
     "name": "stdout",
     "output_type": "stream",
     "text": [
      "hat food mat pat\n"
     ]
    }
   ],
   "source": [
    "#To replace rat with the word food \n",
    "food = \"hat rat mat pat\"\n",
    "\n",
    "# pattern object provides us with additional methods one of which is substitute\n",
    "\n",
    "regex = re.compile(\"[r]at\")\n",
    "food = regex.sub(\"food\", food)\n",
    "print(food)"
   ]
  },
  {
   "cell_type": "markdown",
   "id": "e795a38d-fea6-4f9c-a81b-9b573dd4bf8d",
   "metadata": {},
   "source": [
    "##### Solving the backslash \\\\ problem"
   ]
  },
  {
   "cell_type": "code",
   "execution_count": 47,
   "id": "98cf9c61-059c-4104-8565-60f5089709f0",
   "metadata": {},
   "outputs": [
    {
     "name": "stdout",
     "output_type": "stream",
     "text": [
      "here is \\drogba\n"
     ]
    }
   ],
   "source": [
    "randstr = \"here is \\\\drogba\"\n",
    "print(randstr)"
   ]
  },
  {
   "cell_type": "markdown",
   "id": "9584e7ea-e95f-495d-a34f-267ca0669ef6",
   "metadata": {},
   "source": [
    "Note that the output printed has only one backslash \\ instead of double."
   ]
  },
  {
   "cell_type": "code",
   "execution_count": 48,
   "id": "7570ecf4-ced4-4afc-9a94-aa9bf72b6659",
   "metadata": {},
   "outputs": [
    {
     "name": "stdout",
     "output_type": "stream",
     "text": [
      "<re.Match object; span=(8, 15), match='\\\\drogba'>\n"
     ]
    }
   ],
   "source": [
    "# Making use of RegEx to solve this.\n",
    "# re(rawstring) will treat backslash as special\n",
    "\n",
    "randstr = \"here is \\\\drogba\"\n",
    "print(re.search(r\"\\\\drogba\", randstr))"
   ]
  },
  {
   "cell_type": "code",
   "execution_count": 49,
   "id": "b97ab2be-596c-4e64-af92-71494109a0f8",
   "metadata": {},
   "outputs": [
    {
     "name": "stdout",
     "output_type": "stream",
     "text": [
      "\n",
      "Keep the blue flag \n",
      "flying high\n",
      "Chelsea\n",
      "\n"
     ]
    }
   ],
   "source": [
    "# To deal with new line spaces\n",
    "randstr = '''\n",
    "Keep the blue flag \n",
    "flying high\n",
    "Chelsea\n",
    "'''\n",
    "print(randstr)"
   ]
  },
  {
   "cell_type": "code",
   "execution_count": 50,
   "id": "e8c9957e-e0ab-4822-a2c1-9e7e0cfa4040",
   "metadata": {},
   "outputs": [
    {
     "name": "stdout",
     "output_type": "stream",
     "text": [
      " Keep the blue flag  flying high Chelsea \n"
     ]
    }
   ],
   "source": [
    "# Removing the new line with space\n",
    "\n",
    "regex = re.compile(\"\\n\")\n",
    "randstr = regex.sub(\" \", randstr)\n",
    "print(randstr)"
   ]
  },
  {
   "cell_type": "code",
   "execution_count": 51,
   "id": "57007988-7b38-41bb-98c0-18af4dd9d1b8",
   "metadata": {},
   "outputs": [],
   "source": [
    "#White spaces to work with\n",
    "#\\b: backspace\n",
    "#\\f: formfeed\n",
    "#\\r: carriage return\n",
    "#\\t: Tab\n",
    "#\\v: Vertical tab"
   ]
  },
  {
   "cell_type": "markdown",
   "id": "7f269ff2-db47-47b2-892c-8638c729f911",
   "metadata": {},
   "source": [
    "##### 6. Match a single character."
   ]
  },
  {
   "cell_type": "code",
   "execution_count": 52,
   "id": "8949dd07-1b06-41a7-9a86-657830291b8e",
   "metadata": {},
   "outputs": [
    {
     "name": "stdout",
     "output_type": "stream",
     "text": [
      "Matches: 5\n"
     ]
    }
   ],
   "source": [
    "#To get the 5th digit\n",
    "randstr = \"12345\"\n",
    "print(\"Matches:\", len(re.findall(\"\\d\", randstr)))"
   ]
  },
  {
   "cell_type": "code",
   "execution_count": 53,
   "id": "3aea98e3-c3f3-4222-8dab-e089a1b27461",
   "metadata": {},
   "outputs": [
    {
     "name": "stdout",
     "output_type": "stream",
     "text": [
      "Matches: 0\n"
     ]
    }
   ],
   "source": [
    "# making the d uppercase D will match anything but digits\n",
    "randstr = \"12345\"\n",
    "print(\"Matches:\", len(re.findall(\"\\D\", randstr)))"
   ]
  },
  {
   "cell_type": "code",
   "execution_count": 54,
   "id": "85f5ecdc-b112-4264-9d2b-bb8109b2faf2",
   "metadata": {},
   "outputs": [
    {
     "name": "stdout",
     "output_type": "stream",
     "text": [
      "Matches: 1\n"
     ]
    }
   ],
   "source": [
    "# To match a specific digit\n",
    "randstr = \"12345\"\n",
    "print(\"Matches:\", len(re.findall(\"\\d{5}\", randstr)))"
   ]
  },
  {
   "cell_type": "code",
   "execution_count": 55,
   "id": "87674dd1-4279-406a-9861-3f323ea3bd8e",
   "metadata": {},
   "outputs": [
    {
     "name": "stdout",
     "output_type": "stream",
     "text": [
      "Matches: 3\n"
     ]
    }
   ],
   "source": [
    "# To match digits with a certain range. Here we look for strings with 5 and 7\n",
    "num = \"123 1234 12345 123456 1234567\"\n",
    "print(\"Matches:\", len(re.findall(\"\\d{5,7}\", num))) "
   ]
  },
  {
   "cell_type": "markdown",
   "id": "7b4c19a1-b761-4a57-a7b5-7c2d682ceee1",
   "metadata": {},
   "source": [
    "#### Applications of Regular Expressions"
   ]
  },
  {
   "cell_type": "markdown",
   "id": "ab57c8ee-01f4-4960-8e2c-5898e259e700",
   "metadata": {},
   "source": [
    "#### Verifying phone numbers\n",
    "\n",
    "All phone numbers should have:\n",
    "1. 3 starting digits and '-' sign\n",
    "2. 3 middle digits and '-' sign\n",
    "3. 4 digits in the end.\n",
    "\n",
    "E.g. 444-122-1234"
   ]
  },
  {
   "cell_type": "code",
   "execution_count": 56,
   "id": "f8bf748a-fbd6-45b9-991b-f9d2ad92b567",
   "metadata": {},
   "outputs": [
    {
     "name": "stdout",
     "output_type": "stream",
     "text": [
      "it is a phone number\n"
     ]
    }
   ],
   "source": [
    "#\\w [a-zA-Z0-9_] - This will match anything inside the bracket\n",
    "#\\W [^a-zA-Z0-9_] - This will match anything but the thing inside the bracket. This is similar to using the ^ symbol\n",
    "\n",
    "phn = \"412-555-1212\"\n",
    "if re.search(\"\\w{3}-\\w{3}-\\w{4}\", phn): #anything with 3 digits, a hyphen and 4 digits respectively.\n",
    "    print(\"it is a phone number\")\n",
    "    \n",
    "# If we changed the phone number 412-5551-1212, the output will return empty as it does not meet the stated specificatio"
   ]
  },
  {
   "cell_type": "code",
   "execution_count": 57,
   "id": "9eef3e4d-04fd-49ce-ada5-98695b3283e2",
   "metadata": {},
   "outputs": [
    {
     "name": "stdout",
     "output_type": "stream",
     "text": [
      "it is a phone number\n"
     ]
    }
   ],
   "source": [
    "#If we replace the 'w' with a 'd' for the specified string it returns output as above. But if not with specification, it will be emply\n",
    "phn = \"412-555-1212\"\n",
    "if re.search(\"\\d{3}-\\d{3}-\\d{4}\", phn):\n",
    "    print(\"it is a phone number\")"
   ]
  },
  {
   "cell_type": "code",
   "execution_count": 58,
   "id": "9e037b17-4c05-4c82-9f8e-8133c01d76df",
   "metadata": {},
   "outputs": [],
   "source": [
    "#\\s [\\f\\n\\r\\t\\v] - It will print anything in the bracket\n",
    "#\\S [^\\f\\n\\r\\t\\v] - It will print anything but the letters in the bracket\n",
    "\n",
    "# To see if a full name is valid or not\n",
    "if re.search(\"\\w{2, 20}\\S\\w{2, 20}\", \"Saurabh Kulshrestha\"):\n",
    "    print(\"fullname is valid\")"
   ]
  },
  {
   "cell_type": "markdown",
   "id": "87cb0c6d-ed41-4349-96f1-4962a2f5b2ff",
   "metadata": {},
   "source": [
    "##### To verify E-mail address\n",
    "\n",
    "E-mail address should include:\n",
    "1. 1 to 20 lowercase and uppercase letters, numbers plus ._%+-\n",
    "2. An @ symbol\n",
    "3. 2 to 20 lowercase and uppercase letters, number\n",
    "4. A period\n",
    "5. 2 to 3 lowercase and uppercase letters"
   ]
  },
  {
   "cell_type": "code",
   "execution_count": 59,
   "id": "83533910-b974-472d-bf16-76c78b55566c",
   "metadata": {},
   "outputs": [
    {
     "name": "stdout",
     "output_type": "stream",
     "text": [
      "EmailMatches: 0\n"
     ]
    }
   ],
   "source": [
    "email = \"sk@aol.com md@.com @seo.com dc@.com\"\n",
    "print(\"EmailMatches:\", len(re.findall(\"[\\w._%+-]{1, 20}@[\\w.-]{2, 20}.[A-Za-z]{2, 3}\", email)))"
   ]
  },
  {
   "cell_type": "code",
   "execution_count": 60,
   "id": "30031a65-787d-4ec8-8b96-b2609c555682",
   "metadata": {},
   "outputs": [
    {
     "name": "stdout",
     "output_type": "stream",
     "text": [
      "EmailMatches: 0\n"
     ]
    }
   ],
   "source": [
    "email = \"sk@aol.com md@.com @seo.com dc@.com sk@aol.com\"\n",
    "print(\"EmailMatches:\", len(re.findall(\"[\\w._%+-]{1, 20}@[\\w.-]{2, 20}.[A-Za-z]{2, 3}\", email)))"
   ]
  },
  {
   "cell_type": "markdown",
   "id": "5350dd5d-2c7b-4317-aac1-63cd37c89ef8",
   "metadata": {},
   "source": [
    "#### Web Scrapping"
   ]
  },
  {
   "cell_type": "code",
   "execution_count": 61,
   "id": "d4f73061-560e-4125-ac90-c6a7e13eab3c",
   "metadata": {},
   "outputs": [],
   "source": [
    "# Scrapping phone numbers from a webpage using RegEx\n",
    "import urllib.request\n",
    "from re import findall"
   ]
  },
  {
   "cell_type": "code",
   "execution_count": 62,
   "id": "50e1ed95-a982-459c-8281-15dbe54fe8f6",
   "metadata": {},
   "outputs": [
    {
     "name": "stdout",
     "output_type": "stream",
     "text": [
      "(257) 563-7401\n",
      "(372) 587-2335\n",
      "(786) 713-8616\n",
      "(793) 151-6230\n",
      "(492) 709-6392\n",
      "(654) 393-5734\n",
      "(404) 960-3807\n",
      "(314) 244-6306\n",
      "(947) 278-5929\n",
      "(684) 579-1879\n",
      "(389) 737-2852\n",
      "(660) 663-4518\n",
      "(608) 265-2215\n",
      "(959) 119-8364\n",
      "(468) 353-2641\n",
      "(248) 675-4007\n",
      "(939) 353-1107\n",
      "(570) 873-7090\n",
      "(302) 259-2375\n",
      "(717) 450-4729\n",
      "(453) 391-4650\n",
      "(559) 104-5475\n",
      "(387) 142-9434\n",
      "(516) 745-4496\n",
      "(326) 677-3419\n",
      "(746) 679-2470\n",
      "(455) 430-0989\n",
      "(490) 936-4694\n",
      "(985) 834-8285\n",
      "(662) 661-1446\n",
      "(802) 668-8240\n",
      "(477) 768-9247\n",
      "(791) 239-9057\n",
      "(832) 109-0213\n",
      "(837) 196-3274\n",
      "(268) 442-2428\n",
      "(850) 676-5117\n",
      "(861) 546-5032\n",
      "(176) 805-4108\n",
      "(715) 912-6931\n",
      "(993) 554-0563\n",
      "(357) 616-5411\n",
      "(121) 347-0086\n",
      "(304) 506-6314\n",
      "(425) 288-2332\n",
      "(145) 987-4962\n",
      "(187) 582-9707\n",
      "(750) 558-3965\n",
      "(492) 467-3131\n",
      "(774) 914-2510\n",
      "(888) 106-8550\n",
      "(539) 567-3573\n",
      "(693) 337-2849\n",
      "(545) 604-9386\n",
      "(221) 156-5026\n",
      "(414) 876-0865\n",
      "(932) 726-8645\n",
      "(726) 710-9826\n",
      "(622) 594-1662\n",
      "(948) 600-8503\n",
      "(605) 900-7508\n",
      "(716) 977-5775\n",
      "(368) 239-8275\n",
      "(725) 342-0650\n",
      "(711) 993-5187\n",
      "(882) 399-5084\n",
      "(287) 755-9948\n",
      "(659) 551-3389\n",
      "(275) 730-6868\n",
      "(725) 757-4047\n",
      "(314) 882-1496\n",
      "(639) 360-7590\n",
      "(168) 222-1592\n",
      "(896) 303-1164\n",
      "(203) 982-6130\n",
      "(906) 217-1470\n",
      "(614) 514-1269\n",
      "(763) 409-5446\n",
      "(836) 292-5324\n",
      "(926) 709-3295\n",
      "(963) 356-9268\n",
      "(736) 522-8584\n",
      "(410) 483-0352\n",
      "(252) 204-1434\n",
      "(874) 886-4174\n",
      "(581) 379-7573\n",
      "(983) 632-8597\n",
      "(295) 983-3476\n",
      "(873) 392-8802\n",
      "(360) 669-3923\n",
      "(840) 987-9449\n",
      "(422) 517-6053\n",
      "(126) 940-2753\n",
      "(427) 930-5255\n",
      "(689) 721-5145\n",
      "(676) 334-2174\n",
      "(437) 994-5270\n",
      "(564) 908-6970\n",
      "(577) 333-6244\n",
      "(655) 840-6139\n"
     ]
    }
   ],
   "source": [
    "url = \"http://www.summet.com/dmsi/html/codesamples/addresses.html\"\n",
    "\n",
    "response = urllib.request.urlopen(url)\n",
    "\n",
    "html = response.read()\n",
    "\n",
    "htmlStr = html.decode()\n",
    "\n",
    "pdata = findall(\"\\(\\d{3}\\) \\d{3}-\\d{4}\", htmlStr) #3digits in () space 3 digits-4 digits\n",
    "\n",
    "for item in pdata:\n",
    "    print(item)"
   ]
  },
  {
   "cell_type": "markdown",
   "id": "cbeae587-9e8b-45aa-994c-d043dedc8ffd",
   "metadata": {},
   "source": [
    "#### Python Regular Expressions (Regex) Tutorials\n",
    "\n",
    "A regular expression is a set of characters that helps one identify strings a specific pattern.\n",
    "\n",
    "##### Symbols for writing regular expressions\n",
    "1. Asterix * The preceding character is repeated zero or more times\n",
    "2. Plus + The preceding character is repeated at least once\n",
    "3. {} The preceding character is repeated as many times as mentioned in the braces.\n",
    "4. Period . Represents a single occurence of any character except newline.\n",
    "5. ? The preceding character is optional\n",
    "6. ^ Specifies that the match must start at the beginning of the string.\n",
    "7. $ Specifies that the match must occur at the end of the string\n",
    "8. [] Matches one out of all characters within the brackets\n",
    "9. [^..] Matches any one character except those not in the brackets\n",
    "10. \\d Matches a digit\n",
    "11. \\w Matches an alphanumeric character.\n",
    "12. \\s Matches a whitespace character"
   ]
  },
  {
   "cell_type": "code",
   "execution_count": 73,
   "id": "063f3f53-63fc-41eb-a4b3-e7ffe9259784",
   "metadata": {},
   "outputs": [],
   "source": [
    "import re"
   ]
  },
  {
   "cell_type": "code",
   "execution_count": 74,
   "id": "3c97633c-1777-486c-8b51-a77f88909255",
   "metadata": {},
   "outputs": [
    {
     "name": "stdout",
     "output_type": "stream",
     "text": [
      "['computer']\n"
     ]
    }
   ],
   "source": [
    "str = \"Abcd 4 computer 765 Python 687\"\n",
    "\n",
    "pattern = 'computer' #extracting a specific word\n",
    "match = re.findall(pattern, str)\n",
    "\n",
    "print(match)"
   ]
  },
  {
   "cell_type": "code",
   "execution_count": 78,
   "id": "9796bf03-be87-4723-a935-fc1e09b16e63",
   "metadata": {},
   "outputs": [
    {
     "name": "stdout",
     "output_type": "stream",
     "text": [
      "['Abcd', 'computer', 'Python']\n"
     ]
    }
   ],
   "source": [
    "#the code above didn't tell us much. We will now use some of those special characters\n",
    "str = \"Abcd 4 computer 765 Python 687\"\n",
    "\n",
    "pattern = r'[a-zA-Z]+'\n",
    "match = re.findall(pattern, str)\n",
    "\n",
    "print(match)"
   ]
  },
  {
   "cell_type": "code",
   "execution_count": 79,
   "id": "6d29ca6a-487e-4159-aa95-fc37b973ea1d",
   "metadata": {},
   "outputs": [
    {
     "name": "stdout",
     "output_type": "stream",
     "text": [
      "['Abcd', 'computer', 'Python']\n"
     ]
    }
   ],
   "source": [
    "#Let's remove the space in between Abcd and 4\n",
    "str = \"Abcd4 computer 765 Python 687\"\n",
    "\n",
    "pattern = r'[a-zA-Z]+'\n",
    "match = re.findall(pattern, str)\n",
    "\n",
    "print(match)"
   ]
  },
  {
   "cell_type": "code",
   "execution_count": 80,
   "id": "aa967d0a-9789-46db-99b2-0cba71951514",
   "metadata": {},
   "outputs": [
    {
     "name": "stdout",
     "output_type": "stream",
     "text": [
      "['Abcd', 'computer', 'Python']\n"
     ]
    }
   ],
   "source": [
    "#Let's remove all the spaces in between Abcd, 4 and computer\n",
    "str = \"Abcd4computer 765 Python 687\"\n",
    "\n",
    "pattern = r'[a-zA-Z]+' # the plus brings back letters next to each other\n",
    "match = re.findall(pattern, str)\n",
    "\n",
    "print(match)"
   ]
  },
  {
   "cell_type": "code",
   "execution_count": 82,
   "id": "f11912d5-0b33-4f6f-a9eb-96ae16dffdb0",
   "metadata": {},
   "outputs": [
    {
     "name": "stdout",
     "output_type": "stream",
     "text": [
      "['4', '765', '687']\n"
     ]
    }
   ],
   "source": [
    "#Let's do numbers\n",
    "str = \"Abcd 4 computer 765 Python 687\"\n",
    "\n",
    "pattern = r'[0-9]+'\n",
    "match = re.findall(pattern, str)\n",
    "\n",
    "print(match)"
   ]
  },
  {
   "cell_type": "code",
   "execution_count": 83,
   "id": "bb4a75c8-5b46-4222-ba1d-0b03f4411d5e",
   "metadata": {},
   "outputs": [
    {
     "name": "stdout",
     "output_type": "stream",
     "text": [
      "['Abcd4', 'computer', '765', 'Python', '687']\n"
     ]
    }
   ],
   "source": [
    "#Let's do both letters and numbers\n",
    "str = \"Abcd4 computer 765 Python 687\"\n",
    "\n",
    "pattern = r'[a-zA-Z0-9]+'\n",
    "match = re.findall(pattern, str)\n",
    "\n",
    "print(match)"
   ]
  },
  {
   "cell_type": "code",
   "execution_count": 84,
   "id": "e72246c3-cc8a-4722-a977-89483fe06ff6",
   "metadata": {},
   "outputs": [
    {
     "name": "stdout",
     "output_type": "stream",
     "text": [
      "['Abcd', ' 4', ' computer', ' 765', ' Python', ' 687']\n"
     ]
    }
   ],
   "source": [
    "#Let's try another format that will give same answer\n",
    "str = \"Abcd 4 computer 765 Python 687\"\n",
    "\n",
    "pattern = r'.[^ ]+'\n",
    "match = re.findall(pattern, str)\n",
    "\n",
    "print(match)"
   ]
  },
  {
   "cell_type": "code",
   "execution_count": 85,
   "id": "e76021d2-827b-4215-b3c9-0bbd27e868da",
   "metadata": {},
   "outputs": [
    {
     "name": "stdout",
     "output_type": "stream",
     "text": [
      "cherries\n"
     ]
    }
   ],
   "source": [
    "# using the three single brackets \n",
    "str = '''\n",
    "apple\n",
    "banana\n",
    "orange\n",
    "peach\n",
    "avocado\n",
    "cherries\n",
    "'''\n",
    "pattern = r'.*s' #Looking for any character that is not a caret return \n",
    "match = re.findall(pattern, str)\n",
    "for m in match:\n",
    "    print(m)"
   ]
  },
  {
   "cell_type": "code",
   "execution_count": 86,
   "id": "c2c5e768-11b4-48cf-b838-84daf6d4e275",
   "metadata": {},
   "outputs": [
    {
     "name": "stdout",
     "output_type": "stream",
     "text": [
      "apple\n",
      "orange\n",
      "avocado\n"
     ]
    }
   ],
   "source": [
    "# using word boundaries \n",
    "str = '''\n",
    "apple\n",
    "banana\n",
    "orange\n",
    "peach\n",
    "avocado\n",
    "cherries\n",
    "'''\n",
    "pattern = r'\\b[aeiou].+\\b' #looking for boubdaries. Any pattern that has aeiou\n",
    "match = re.findall(pattern, str)\n",
    "for m in match:\n",
    "    print(m)"
   ]
  },
  {
   "cell_type": "code",
   "execution_count": 87,
   "id": "4cf1683e-ddce-4e5c-8a10-43d5dabba022",
   "metadata": {},
   "outputs": [
    {
     "name": "stdout",
     "output_type": "stream",
     "text": [
      "apple\n",
      "anana\n",
      "orange\n",
      "each\n",
      "avocado\n",
      "erries\n"
     ]
    }
   ],
   "source": [
    "# Let's run the code without the boundaries \n",
    "str = '''\n",
    "apple\n",
    "banana\n",
    "orange\n",
    "peach\n",
    "avocado\n",
    "cherries\n",
    "'''\n",
    "pattern = r'[aeiou].+' \n",
    "match = re.findall(pattern, str)\n",
    "for m in match:\n",
    "    print(m)"
   ]
  },
  {
   "cell_type": "code",
   "execution_count": 88,
   "id": "dad5f5f3-0418-46f1-8e99-4079d37b49d0",
   "metadata": {},
   "outputs": [
    {
     "name": "stdout",
     "output_type": "stream",
     "text": [
      "apple\n",
      "anana\n",
      "orange\n",
      "each\n",
      "avocado\n",
      "erries\n"
     ]
    }
   ],
   "source": [
    "# Let's run the code with the boundaries on the right hand side\n",
    "str = '''\n",
    "apple\n",
    "banana\n",
    "orange\n",
    "peach\n",
    "avocado\n",
    "cherries\n",
    "'''\n",
    "pattern = r'[aeiou].+\\b' \n",
    "match = re.findall(pattern, str)\n",
    "for m in match:\n",
    "    print(m)"
   ]
  },
  {
   "cell_type": "code",
   "execution_count": 89,
   "id": "d122162f-93eb-49fd-9e4c-603857ab3dde",
   "metadata": {},
   "outputs": [
    {
     "name": "stdout",
     "output_type": "stream",
     "text": [
      "['dfshj@gmail.com', 'tigacharm56h@hotmail.com']\n"
     ]
    }
   ],
   "source": [
    "#Let's look at another example using emails (scrapping a webpage) \n",
    "str = '''\n",
    "dfshj@gmail.com\n",
    "3ytgdg\\.56\n",
    "tigacharm56h@hotmail.com\n",
    "hfg123h@aol\n",
    "'''\n",
    "pattern = r'[a-z]+[0-9]*[a-z]*@[a-z]+\\.com' \n",
    "match = re.findall(pattern, str)\n",
    "\n",
    "print(match)"
   ]
  },
  {
   "cell_type": "code",
   "execution_count": 92,
   "id": "33cb5f14-c9da-4ddf-aca8-fbeab19ac74a",
   "metadata": {},
   "outputs": [
    {
     "name": "stdout",
     "output_type": "stream",
     "text": [
      "<re.Match object; span=(1, 16), match='dfshj@gmail.com'>\n",
      "<re.Match object; span=(28, 52), match='tigacharm56h@hotmail.com'>\n"
     ]
    }
   ],
   "source": [
    "#Let's find markers on the webpage \n",
    "str = '''\n",
    "dfshj@gmail.com\n",
    "3ytgdg\\.56\n",
    "tigacharm56h@hotmail.com\n",
    "hfg123h@aol\n",
    "'''\n",
    "pattern = r'[a-z]+[0-9]*[a-z]*@[a-z]+\\.com' \n",
    "match = re.finditer(pattern,str)\n",
    "\n",
    "for m in match:\n",
    "    print(m)"
   ]
  },
  {
   "cell_type": "code",
   "execution_count": 93,
   "id": "3cda0fee-c6ae-41c2-ab0b-fdd09a8701f3",
   "metadata": {},
   "outputs": [
    {
     "name": "stdout",
     "output_type": "stream",
     "text": [
      "(1, 16)\n",
      "(28, 52)\n"
     ]
    }
   ],
   "source": [
    "#Let's check just the span \n",
    "str = '''\n",
    "dfshj@gmail.com\n",
    "3ytgdg\\.56\n",
    "tigacharm56h@hotmail.com\n",
    "hfg123h@aol\n",
    "'''\n",
    "pattern = r'[a-z]+[0-9]*[a-z]*@[a-z]+\\.com' \n",
    "match = re.finditer(pattern,str)\n",
    "\n",
    "for m in match:\n",
    "    print(m.span())"
   ]
  },
  {
   "cell_type": "code",
   "execution_count": 95,
   "id": "c21f503d-8135-49f9-ae65-e9395fdbed2e",
   "metadata": {},
   "outputs": [
    {
     "name": "stdout",
     "output_type": "stream",
     "text": [
      "\n",
      "\n",
      "car\n",
      "2453\n",
      "\n",
      "\n",
      "90\n",
      "\n"
     ]
    }
   ],
   "source": [
    "#Let's check new set of data\n",
    "str = '''\n",
    "Sam\n",
    "car\n",
    "2453\n",
    "Alexa\n",
    "John\n",
    "90\n",
    "'''\n",
    "\n",
    "pattern = r'\\b[A-Z][a-z]+\\b' \n",
    "nstr = re.sub(pattern,  \"\",str) #for substituting anything not in the pattern\n",
    "\n",
    "print(nstr)"
   ]
  },
  {
   "cell_type": "code",
   "execution_count": null,
   "id": "7e4e52f0-3d2b-4f57-8107-7afe9886c6d1",
   "metadata": {},
   "outputs": [],
   "source": []
  }
 ],
 "metadata": {
  "kernelspec": {
   "display_name": "Python 3 (ipykernel)",
   "language": "python",
   "name": "python3"
  },
  "language_info": {
   "codemirror_mode": {
    "name": "ipython",
    "version": 3
   },
   "file_extension": ".py",
   "mimetype": "text/x-python",
   "name": "python",
   "nbconvert_exporter": "python",
   "pygments_lexer": "ipython3",
   "version": "3.9.13"
  }
 },
 "nbformat": 4,
 "nbformat_minor": 5
}
